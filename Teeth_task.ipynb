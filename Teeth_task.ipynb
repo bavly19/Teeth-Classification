{
  "cells": [
    {
      "cell_type": "code",
      "execution_count": null,
      "metadata": {
        "id": "I-xpmTpvMb5i",
        "outputId": "91378f15-5309-4b41-c7c2-2d0692bc5866"
      },
      "outputs": [
        {
          "name": "stderr",
          "output_type": "stream",
          "text": [
            "2025-07-08 07:14:59.098777: E external/local_xla/xla/stream_executor/cuda/cuda_fft.cc:477] Unable to register cuFFT factory: Attempting to register factory for plugin cuFFT when one has already been registered\n",
            "WARNING: All log messages before absl::InitializeLog() is called are written to STDERR\n",
            "E0000 00:00:1751958899.469647      35 cuda_dnn.cc:8310] Unable to register cuDNN factory: Attempting to register factory for plugin cuDNN when one has already been registered\n",
            "E0000 00:00:1751958899.568145      35 cuda_blas.cc:1418] Unable to register cuBLAS factory: Attempting to register factory for plugin cuBLAS when one has already been registered\n"
          ]
        }
      ],
      "source": [
        "import os\n",
        "import numpy as np\n",
        "import matplotlib.pyplot as plt\n",
        "\n",
        "import tensorflow as tf\n",
        "from tensorflow.keras.preprocessing.image import ImageDataGenerator\n",
        "from tensorflow.keras.applications import (\n",
        "    ResNet50, VGG16, InceptionV3, MobileNetV2, EfficientNetB0\n",
        ")\n",
        "from tensorflow.keras.applications.resnet50 import preprocess_input as resnet_preprocess\n",
        "from tensorflow.keras.applications.vgg16 import preprocess_input as vgg_preprocess\n",
        "from tensorflow.keras.applications.inception_v3 import preprocess_input as inception_preprocess\n",
        "from tensorflow.keras.applications.mobilenet_v2 import preprocess_input as mobilenet_preprocess\n",
        "from tensorflow.keras.applications.efficientnet import preprocess_input as efficientnet_preprocess\n",
        "\n",
        "from tensorflow.keras.layers import Dense, GlobalAveragePooling2D, Dropout\n",
        "from tensorflow.keras.models import Model\n",
        "from tensorflow.keras.callbacks import EarlyStopping, ModelCheckpoint"
      ]
    },
    {
      "cell_type": "code",
      "execution_count": null,
      "metadata": {
        "id": "7LF7HWRbMb5p"
      },
      "outputs": [],
      "source": [
        "train_dir = '/kaggle/input/teeth-dataset-0/Teeth_Dataset/Training'\n",
        "val_dir = '/kaggle/input/teeth-dataset-0/Teeth_Dataset/Validation'\n",
        "\n",
        "IMG_SIZE = (224, 224)\n",
        "BATCH_SIZE = 32"
      ]
    },
    {
      "cell_type": "code",
      "execution_count": null,
      "metadata": {
        "id": "L7tsvh-UMb5r"
      },
      "outputs": [],
      "source": [
        "preprocessing_map = {\n",
        "    \"ResNet50\": resnet_preprocess,\n",
        "    \"VGG16\": vgg_preprocess,\n",
        "    \"InceptionV3\": inception_preprocess,\n",
        "    \"MobileNetV2\": mobilenet_preprocess,\n",
        "    \"EfficientNetB0\": efficientnet_preprocess\n",
        "}"
      ]
    },
    {
      "cell_type": "code",
      "execution_count": null,
      "metadata": {
        "id": "KqZjFJ8XMb5s",
        "outputId": "74788f22-8996-44c2-fd88-c3c9140bf8b4"
      },
      "outputs": [
        {
          "name": "stderr",
          "output_type": "stream",
          "text": [
            "I0000 00:00:1751958989.671011      35 gpu_device.cc:2022] Created device /job:localhost/replica:0/task:0/device:GPU:0 with 13942 MB memory:  -> device: 0, name: Tesla T4, pci bus id: 0000:00:04.0, compute capability: 7.5\n",
            "I0000 00:00:1751958989.671749      35 gpu_device.cc:2022] Created device /job:localhost/replica:0/task:0/device:GPU:1 with 13942 MB memory:  -> device: 1, name: Tesla T4, pci bus id: 0000:00:05.0, compute capability: 7.5\n"
          ]
        },
        {
          "name": "stdout",
          "output_type": "stream",
          "text": [
            "Downloading data from https://storage.googleapis.com/tensorflow/keras-applications/resnet/resnet50_weights_tf_dim_ordering_tf_kernels_notop.h5\n",
            "\u001b[1m94765736/94765736\u001b[0m \u001b[32m━━━━━━━━━━━━━━━━━━━━\u001b[0m\u001b[37m\u001b[0m \u001b[1m0s\u001b[0m 0us/step\n",
            "Downloading data from https://storage.googleapis.com/tensorflow/keras-applications/vgg16/vgg16_weights_tf_dim_ordering_tf_kernels_notop.h5\n",
            "\u001b[1m58889256/58889256\u001b[0m \u001b[32m━━━━━━━━━━━━━━━━━━━━\u001b[0m\u001b[37m\u001b[0m \u001b[1m0s\u001b[0m 0us/step\n",
            "Downloading data from https://storage.googleapis.com/tensorflow/keras-applications/inception_v3/inception_v3_weights_tf_dim_ordering_tf_kernels_notop.h5\n",
            "\u001b[1m87910968/87910968\u001b[0m \u001b[32m━━━━━━━━━━━━━━━━━━━━\u001b[0m\u001b[37m\u001b[0m \u001b[1m0s\u001b[0m 0us/step\n",
            "Downloading data from https://storage.googleapis.com/tensorflow/keras-applications/mobilenet_v2/mobilenet_v2_weights_tf_dim_ordering_tf_kernels_1.0_224_no_top.h5\n",
            "\u001b[1m9406464/9406464\u001b[0m \u001b[32m━━━━━━━━━━━━━━━━━━━━\u001b[0m\u001b[37m\u001b[0m \u001b[1m0s\u001b[0m 0us/step\n",
            "Downloading data from https://storage.googleapis.com/keras-applications/efficientnetb0_notop.h5\n",
            "\u001b[1m16705208/16705208\u001b[0m \u001b[32m━━━━━━━━━━━━━━━━━━━━\u001b[0m\u001b[37m\u001b[0m \u001b[1m0s\u001b[0m 0us/step\n"
          ]
        }
      ],
      "source": [
        "base_models = {\n",
        "    \"ResNet50\": ResNet50(weights='imagenet', include_top=False, input_shape=(224, 224, 3)),\n",
        "    \"VGG16\": VGG16(weights='imagenet', include_top=False, input_shape=(224, 224, 3)),\n",
        "    \"InceptionV3\": InceptionV3(weights='imagenet', include_top=False, input_shape=(224, 224, 3)),\n",
        "    \"MobileNetV2\": MobileNetV2(weights='imagenet', include_top=False, input_shape=(224, 224, 3)),\n",
        "    \"EfficientNetB0\": EfficientNetB0(weights='imagenet', include_top=False, input_shape=(224, 224, 3))\n",
        "}\n"
      ]
    },
    {
      "cell_type": "code",
      "execution_count": null,
      "metadata": {
        "id": "T5LCYkbOMb5s",
        "outputId": "6d0d09ea-292a-4194-ca14-05595cc89cf7"
      },
      "outputs": [
        {
          "name": "stdout",
          "output_type": "stream",
          "text": [
            "\n",
            "🚀 Training ResNet50...\n",
            "Found 3087 images belonging to 7 classes.\n",
            "Found 1028 images belonging to 7 classes.\n"
          ]
        },
        {
          "name": "stderr",
          "output_type": "stream",
          "text": [
            "/usr/local/lib/python3.11/dist-packages/keras/src/trainers/data_adapters/py_dataset_adapter.py:121: UserWarning: Your `PyDataset` class should call `super().__init__(**kwargs)` in its constructor. `**kwargs` can include `workers`, `use_multiprocessing`, `max_queue_size`. Do not pass these arguments to `fit()`, as they will be ignored.\n",
            "  self._warn_if_super_not_called()\n"
          ]
        },
        {
          "name": "stdout",
          "output_type": "stream",
          "text": [
            "Epoch 1/25\n"
          ]
        },
        {
          "name": "stderr",
          "output_type": "stream",
          "text": [
            "WARNING: All log messages before absl::InitializeLog() is called are written to STDERR\n",
            "I0000 00:00:1751959016.738424      98 service.cc:148] XLA service 0x7ba46806d260 initialized for platform CUDA (this does not guarantee that XLA will be used). Devices:\n",
            "I0000 00:00:1751959016.739734      98 service.cc:156]   StreamExecutor device (0): Tesla T4, Compute Capability 7.5\n",
            "I0000 00:00:1751959016.739753      98 service.cc:156]   StreamExecutor device (1): Tesla T4, Compute Capability 7.5\n",
            "I0000 00:00:1751959018.295014      98 cuda_dnn.cc:529] Loaded cuDNN version 90300\n"
          ]
        },
        {
          "name": "stdout",
          "output_type": "stream",
          "text": [
            "\u001b[1m 2/97\u001b[0m \u001b[37m━━━━━━━━━━━━━━━━━━━━\u001b[0m \u001b[1m7s\u001b[0m 79ms/step - accuracy: 0.1016 - loss: 3.8031  "
          ]
        },
        {
          "name": "stderr",
          "output_type": "stream",
          "text": [
            "I0000 00:00:1751959023.983382      98 device_compiler.h:188] Compiled cluster using XLA!  This line is logged at most once for the lifetime of the process.\n"
          ]
        },
        {
          "name": "stdout",
          "output_type": "stream",
          "text": [
            "\u001b[1m97/97\u001b[0m \u001b[32m━━━━━━━━━━━━━━━━━━━━\u001b[0m\u001b[37m\u001b[0m \u001b[1m57s\u001b[0m 406ms/step - accuracy: 0.4228 - loss: 1.9431 - val_accuracy: 0.7695 - val_loss: 0.7051\n",
            "Epoch 2/25\n",
            "\u001b[1m97/97\u001b[0m \u001b[32m━━━━━━━━━━━━━━━━━━━━\u001b[0m\u001b[37m\u001b[0m \u001b[1m14s\u001b[0m 144ms/step - accuracy: 0.7337 - loss: 0.7109 - val_accuracy: 0.8628 - val_loss: 0.4657\n",
            "Epoch 3/25\n",
            "\u001b[1m97/97\u001b[0m \u001b[32m━━━━━━━━━━━━━━━━━━━━\u001b[0m\u001b[37m\u001b[0m \u001b[1m14s\u001b[0m 142ms/step - accuracy: 0.8206 - loss: 0.5000 - val_accuracy: 0.9047 - val_loss: 0.3155\n",
            "Epoch 4/25\n",
            "\u001b[1m97/97\u001b[0m \u001b[32m━━━━━━━━━━━━━━━━━━━━\u001b[0m\u001b[37m\u001b[0m \u001b[1m14s\u001b[0m 141ms/step - accuracy: 0.8835 - loss: 0.3337 - val_accuracy: 0.9339 - val_loss: 0.2395\n",
            "Epoch 5/25\n",
            "\u001b[1m97/97\u001b[0m \u001b[32m━━━━━━━━━━━━━━━━━━━━\u001b[0m\u001b[37m\u001b[0m \u001b[1m15s\u001b[0m 150ms/step - accuracy: 0.9171 - loss: 0.2488 - val_accuracy: 0.9339 - val_loss: 0.2171\n",
            "Epoch 6/25\n",
            "\u001b[1m97/97\u001b[0m \u001b[32m━━━━━━━━━━━━━━━━━━━━\u001b[0m\u001b[37m\u001b[0m \u001b[1m14s\u001b[0m 143ms/step - accuracy: 0.9267 - loss: 0.2049 - val_accuracy: 0.9416 - val_loss: 0.1895\n",
            "Epoch 7/25\n",
            "\u001b[1m97/97\u001b[0m \u001b[32m━━━━━━━━━━━━━━━━━━━━\u001b[0m\u001b[37m\u001b[0m \u001b[1m14s\u001b[0m 145ms/step - accuracy: 0.9286 - loss: 0.1898 - val_accuracy: 0.9543 - val_loss: 0.1542\n",
            "Epoch 8/25\n",
            "\u001b[1m97/97\u001b[0m \u001b[32m━━━━━━━━━━━━━━━━━━━━\u001b[0m\u001b[37m\u001b[0m \u001b[1m14s\u001b[0m 140ms/step - accuracy: 0.9650 - loss: 0.1240 - val_accuracy: 0.9786 - val_loss: 0.1059\n",
            "Epoch 9/25\n",
            "\u001b[1m97/97\u001b[0m \u001b[32m━━━━━━━━━━━━━━━━━━━━\u001b[0m\u001b[37m\u001b[0m \u001b[1m14s\u001b[0m 144ms/step - accuracy: 0.9663 - loss: 0.1076 - val_accuracy: 0.9767 - val_loss: 0.0941\n",
            "Epoch 10/25\n",
            "\u001b[1m97/97\u001b[0m \u001b[32m━━━━━━━━━━━━━━━━━━━━\u001b[0m\u001b[37m\u001b[0m \u001b[1m13s\u001b[0m 137ms/step - accuracy: 0.9791 - loss: 0.0756 - val_accuracy: 0.9698 - val_loss: 0.1127\n",
            "Epoch 11/25\n",
            "\u001b[1m97/97\u001b[0m \u001b[32m━━━━━━━━━━━━━━━━━━━━\u001b[0m\u001b[37m\u001b[0m \u001b[1m14s\u001b[0m 148ms/step - accuracy: 0.9664 - loss: 0.0962 - val_accuracy: 0.9767 - val_loss: 0.0812\n",
            "Epoch 12/25\n",
            "\u001b[1m97/97\u001b[0m \u001b[32m━━━━━━━━━━━━━━━━━━━━\u001b[0m\u001b[37m\u001b[0m \u001b[1m14s\u001b[0m 141ms/step - accuracy: 0.9745 - loss: 0.0845 - val_accuracy: 0.9815 - val_loss: 0.0750\n",
            "Epoch 13/25\n",
            "\u001b[1m97/97\u001b[0m \u001b[32m━━━━━━━━━━━━━━━━━━━━\u001b[0m\u001b[37m\u001b[0m \u001b[1m13s\u001b[0m 135ms/step - accuracy: 0.9879 - loss: 0.0491 - val_accuracy: 0.9728 - val_loss: 0.0776\n",
            "Epoch 14/25\n",
            "\u001b[1m97/97\u001b[0m \u001b[32m━━━━━━━━━━━━━━━━━━━━\u001b[0m\u001b[37m\u001b[0m \u001b[1m13s\u001b[0m 136ms/step - accuracy: 0.9866 - loss: 0.0447 - val_accuracy: 0.9698 - val_loss: 0.0980\n",
            "Epoch 15/25\n",
            "\u001b[1m97/97\u001b[0m \u001b[32m━━━━━━━━━━━━━━━━━━━━\u001b[0m\u001b[37m\u001b[0m \u001b[1m14s\u001b[0m 149ms/step - accuracy: 0.9719 - loss: 0.0824 - val_accuracy: 0.9835 - val_loss: 0.0692\n",
            "Epoch 16/25\n",
            "\u001b[1m97/97\u001b[0m \u001b[32m━━━━━━━━━━━━━━━━━━━━\u001b[0m\u001b[37m\u001b[0m \u001b[1m14s\u001b[0m 139ms/step - accuracy: 0.9801 - loss: 0.0653 - val_accuracy: 0.9825 - val_loss: 0.0616\n",
            "Epoch 17/25\n",
            "\u001b[1m97/97\u001b[0m \u001b[32m━━━━━━━━━━━━━━━━━━━━\u001b[0m\u001b[37m\u001b[0m \u001b[1m13s\u001b[0m 137ms/step - accuracy: 0.9838 - loss: 0.0539 - val_accuracy: 0.9805 - val_loss: 0.0738\n",
            "Epoch 18/25\n",
            "\u001b[1m97/97\u001b[0m \u001b[32m━━━━━━━━━━━━━━━━━━━━\u001b[0m\u001b[37m\u001b[0m \u001b[1m13s\u001b[0m 133ms/step - accuracy: 0.9849 - loss: 0.0501 - val_accuracy: 0.9805 - val_loss: 0.0785\n",
            "Epoch 19/25\n",
            "\u001b[1m97/97\u001b[0m \u001b[32m━━━━━━━━━━━━━━━━━━━━\u001b[0m\u001b[37m\u001b[0m \u001b[1m14s\u001b[0m 138ms/step - accuracy: 0.9802 - loss: 0.0555 - val_accuracy: 0.9776 - val_loss: 0.0759\n",
            "Epoch 20/25\n",
            "\u001b[1m97/97\u001b[0m \u001b[32m━━━━━━━━━━━━━━━━━━━━\u001b[0m\u001b[37m\u001b[0m \u001b[1m13s\u001b[0m 134ms/step - accuracy: 0.9811 - loss: 0.0583 - val_accuracy: 0.9718 - val_loss: 0.0808\n",
            "Epoch 21/25\n",
            "\u001b[1m97/97\u001b[0m \u001b[32m━━━━━━━━━━━━━━━━━━━━\u001b[0m\u001b[37m\u001b[0m \u001b[1m13s\u001b[0m 133ms/step - accuracy: 0.9848 - loss: 0.0492 - val_accuracy: 0.9757 - val_loss: 0.0792\n",
            "\n",
            "🚀 Training VGG16...\n",
            "Found 3087 images belonging to 7 classes.\n",
            "Found 1028 images belonging to 7 classes.\n",
            "Epoch 1/25\n",
            "\u001b[1m97/97\u001b[0m \u001b[32m━━━━━━━━━━━━━━━━━━━━\u001b[0m\u001b[37m\u001b[0m \u001b[1m51s\u001b[0m 386ms/step - accuracy: 0.3887 - loss: 3.3976 - val_accuracy: 0.7422 - val_loss: 0.7473\n",
            "Epoch 2/25\n",
            "\u001b[1m97/97\u001b[0m \u001b[32m━━━━━━━━━━━━━━━━━━━━\u001b[0m\u001b[37m\u001b[0m \u001b[1m25s\u001b[0m 255ms/step - accuracy: 0.7065 - loss: 0.8246 - val_accuracy: 0.8171 - val_loss: 0.5189\n",
            "Epoch 3/25\n",
            "\u001b[1m97/97\u001b[0m \u001b[32m━━━━━━━━━━━━━━━━━━━━\u001b[0m\u001b[37m\u001b[0m \u001b[1m25s\u001b[0m 258ms/step - accuracy: 0.7905 - loss: 0.5904 - val_accuracy: 0.8716 - val_loss: 0.3870\n",
            "Epoch 4/25\n",
            "\u001b[1m97/97\u001b[0m \u001b[32m━━━━━━━━━━━━━━━━━━━━\u001b[0m\u001b[37m\u001b[0m \u001b[1m25s\u001b[0m 260ms/step - accuracy: 0.8493 - loss: 0.4144 - val_accuracy: 0.9037 - val_loss: 0.2917\n",
            "Epoch 5/25\n",
            "\u001b[1m97/97\u001b[0m \u001b[32m━━━━━━━━━━━━━━━━━━━━\u001b[0m\u001b[37m\u001b[0m \u001b[1m25s\u001b[0m 259ms/step - accuracy: 0.8860 - loss: 0.3331 - val_accuracy: 0.9290 - val_loss: 0.2113\n",
            "Epoch 6/25\n",
            "\u001b[1m97/97\u001b[0m \u001b[32m━━━━━━━━━━━━━━━━━━━━\u001b[0m\u001b[37m\u001b[0m \u001b[1m25s\u001b[0m 259ms/step - accuracy: 0.9286 - loss: 0.2207 - val_accuracy: 0.9621 - val_loss: 0.1597\n",
            "Epoch 7/25\n",
            "\u001b[1m97/97\u001b[0m \u001b[32m━━━━━━━━━━━━━━━━━━━━\u001b[0m\u001b[37m\u001b[0m \u001b[1m25s\u001b[0m 259ms/step - accuracy: 0.9428 - loss: 0.1783 - val_accuracy: 0.9504 - val_loss: 0.1557\n",
            "Epoch 8/25\n",
            "\u001b[1m97/97\u001b[0m \u001b[32m━━━━━━━━━━━━━━━━━━━━\u001b[0m\u001b[37m\u001b[0m \u001b[1m25s\u001b[0m 259ms/step - accuracy: 0.9437 - loss: 0.1812 - val_accuracy: 0.9640 - val_loss: 0.1333\n",
            "Epoch 9/25\n",
            "\u001b[1m97/97\u001b[0m \u001b[32m━━━━━━━━━━━━━━━━━━━━\u001b[0m\u001b[37m\u001b[0m \u001b[1m25s\u001b[0m 257ms/step - accuracy: 0.9522 - loss: 0.1450 - val_accuracy: 0.9523 - val_loss: 0.1356\n",
            "Epoch 10/25\n",
            "\u001b[1m97/97\u001b[0m \u001b[32m━━━━━━━━━━━━━━━━━━━━\u001b[0m\u001b[37m\u001b[0m \u001b[1m25s\u001b[0m 259ms/step - accuracy: 0.9621 - loss: 0.1073 - val_accuracy: 0.9776 - val_loss: 0.0918\n",
            "Epoch 11/25\n",
            "\u001b[1m97/97\u001b[0m \u001b[32m━━━━━━━━━━━━━━━━━━━━\u001b[0m\u001b[37m\u001b[0m \u001b[1m25s\u001b[0m 257ms/step - accuracy: 0.9653 - loss: 0.1056 - val_accuracy: 0.9767 - val_loss: 0.0921\n",
            "Epoch 12/25\n",
            "\u001b[1m97/97\u001b[0m \u001b[32m━━━━━━━━━━━━━━━━━━━━\u001b[0m\u001b[37m\u001b[0m \u001b[1m25s\u001b[0m 260ms/step - accuracy: 0.9659 - loss: 0.0946 - val_accuracy: 0.9757 - val_loss: 0.0822\n",
            "Epoch 13/25\n",
            "\u001b[1m97/97\u001b[0m \u001b[32m━━━━━━━━━━━━━━━━━━━━\u001b[0m\u001b[37m\u001b[0m \u001b[1m25s\u001b[0m 257ms/step - accuracy: 0.9770 - loss: 0.0734 - val_accuracy: 0.9611 - val_loss: 0.1042\n",
            "Epoch 14/25\n",
            "\u001b[1m97/97\u001b[0m \u001b[32m━━━━━━━━━━━━━━━━━━━━\u001b[0m\u001b[37m\u001b[0m \u001b[1m25s\u001b[0m 261ms/step - accuracy: 0.9684 - loss: 0.0922 - val_accuracy: 0.9805 - val_loss: 0.0699\n",
            "Epoch 15/25\n",
            "\u001b[1m97/97\u001b[0m \u001b[32m━━━━━━━━━━━━━━━━━━━━\u001b[0m\u001b[37m\u001b[0m \u001b[1m25s\u001b[0m 258ms/step - accuracy: 0.9746 - loss: 0.0763 - val_accuracy: 0.9591 - val_loss: 0.1117\n",
            "Epoch 16/25\n",
            "\u001b[1m97/97\u001b[0m \u001b[32m━━━━━━━━━━━━━━━━━━━━\u001b[0m\u001b[37m\u001b[0m \u001b[1m25s\u001b[0m 257ms/step - accuracy: 0.9689 - loss: 0.0944 - val_accuracy: 0.9718 - val_loss: 0.0763\n",
            "Epoch 17/25\n",
            "\u001b[1m97/97\u001b[0m \u001b[32m━━━━━━━━━━━━━━━━━━━━\u001b[0m\u001b[37m\u001b[0m \u001b[1m25s\u001b[0m 259ms/step - accuracy: 0.9887 - loss: 0.0484 - val_accuracy: 0.9815 - val_loss: 0.0579\n",
            "Epoch 18/25\n",
            "\u001b[1m97/97\u001b[0m \u001b[32m━━━━━━━━━━━━━━━━━━━━\u001b[0m\u001b[37m\u001b[0m \u001b[1m25s\u001b[0m 257ms/step - accuracy: 0.9856 - loss: 0.0432 - val_accuracy: 0.9786 - val_loss: 0.0791\n",
            "Epoch 19/25\n",
            "\u001b[1m97/97\u001b[0m \u001b[32m━━━━━━━━━━━━━━━━━━━━\u001b[0m\u001b[37m\u001b[0m \u001b[1m25s\u001b[0m 260ms/step - accuracy: 0.9779 - loss: 0.0665 - val_accuracy: 0.9815 - val_loss: 0.0511\n",
            "Epoch 20/25\n",
            "\u001b[1m97/97\u001b[0m \u001b[32m━━━━━━━━━━━━━━━━━━━━\u001b[0m\u001b[37m\u001b[0m \u001b[1m25s\u001b[0m 260ms/step - accuracy: 0.9857 - loss: 0.0429 - val_accuracy: 0.9864 - val_loss: 0.0485\n",
            "Epoch 21/25\n",
            "\u001b[1m97/97\u001b[0m \u001b[32m━━━━━━━━━━━━━━━━━━━━\u001b[0m\u001b[37m\u001b[0m \u001b[1m25s\u001b[0m 257ms/step - accuracy: 0.9722 - loss: 0.0691 - val_accuracy: 0.9640 - val_loss: 0.0958\n",
            "Epoch 22/25\n",
            "\u001b[1m97/97\u001b[0m \u001b[32m━━━━━━━━━━━━━━━━━━━━\u001b[0m\u001b[37m\u001b[0m \u001b[1m25s\u001b[0m 257ms/step - accuracy: 0.9638 - loss: 0.0839 - val_accuracy: 0.9728 - val_loss: 0.0836\n",
            "Epoch 23/25\n",
            "\u001b[1m97/97\u001b[0m \u001b[32m━━━━━━━━━━━━━━━━━━━━\u001b[0m\u001b[37m\u001b[0m \u001b[1m25s\u001b[0m 258ms/step - accuracy: 0.9680 - loss: 0.0875 - val_accuracy: 0.9718 - val_loss: 0.0749\n",
            "Epoch 24/25\n",
            "\u001b[1m97/97\u001b[0m \u001b[32m━━━━━━━━━━━━━━━━━━━━\u001b[0m\u001b[37m\u001b[0m \u001b[1m25s\u001b[0m 258ms/step - accuracy: 0.9779 - loss: 0.0643 - val_accuracy: 0.9737 - val_loss: 0.0840\n",
            "Epoch 25/25\n",
            "\u001b[1m97/97\u001b[0m \u001b[32m━━━━━━━━━━━━━━━━━━━━\u001b[0m\u001b[37m\u001b[0m \u001b[1m25s\u001b[0m 257ms/step - accuracy: 0.9737 - loss: 0.0783 - val_accuracy: 0.9728 - val_loss: 0.0823\n",
            "\n",
            "🚀 Training InceptionV3...\n",
            "Found 3087 images belonging to 7 classes.\n",
            "Found 1028 images belonging to 7 classes.\n",
            "Epoch 1/25\n",
            "\u001b[1m97/97\u001b[0m \u001b[32m━━━━━━━━━━━━━━━━━━━━\u001b[0m\u001b[37m\u001b[0m \u001b[1m51s\u001b[0m 326ms/step - accuracy: 0.3314 - loss: 2.3137 - val_accuracy: 0.5681 - val_loss: 1.1677\n",
            "Epoch 2/25\n",
            "\u001b[1m97/97\u001b[0m \u001b[32m━━━━━━━━━━━━━━━━━━━━\u001b[0m\u001b[37m\u001b[0m \u001b[1m12s\u001b[0m 127ms/step - accuracy: 0.5776 - loss: 1.1500 - val_accuracy: 0.6362 - val_loss: 0.9560\n",
            "Epoch 3/25\n",
            "\u001b[1m97/97\u001b[0m \u001b[32m━━━━━━━━━━━━━━━━━━━━\u001b[0m\u001b[37m\u001b[0m \u001b[1m13s\u001b[0m 132ms/step - accuracy: 0.6392 - loss: 0.9410 - val_accuracy: 0.6770 - val_loss: 0.8275\n",
            "Epoch 4/25\n",
            "\u001b[1m97/97\u001b[0m \u001b[32m━━━━━━━━━━━━━━━━━━━━\u001b[0m\u001b[37m\u001b[0m \u001b[1m13s\u001b[0m 131ms/step - accuracy: 0.6938 - loss: 0.8356 - val_accuracy: 0.7481 - val_loss: 0.7326\n",
            "Epoch 5/25\n",
            "\u001b[1m97/97\u001b[0m \u001b[32m━━━━━━━━━━━━━━━━━━━━\u001b[0m\u001b[37m\u001b[0m \u001b[1m13s\u001b[0m 129ms/step - accuracy: 0.7281 - loss: 0.7471 - val_accuracy: 0.7014 - val_loss: 0.7700\n",
            "Epoch 6/25\n",
            "\u001b[1m97/97\u001b[0m \u001b[32m━━━━━━━━━━━━━━━━━━━━\u001b[0m\u001b[37m\u001b[0m \u001b[1m13s\u001b[0m 131ms/step - accuracy: 0.7668 - loss: 0.6501 - val_accuracy: 0.7899 - val_loss: 0.6009\n",
            "Epoch 7/25\n",
            "\u001b[1m97/97\u001b[0m \u001b[32m━━━━━━━━━━━━━━━━━━━━\u001b[0m\u001b[37m\u001b[0m \u001b[1m12s\u001b[0m 126ms/step - accuracy: 0.8041 - loss: 0.5438 - val_accuracy: 0.7986 - val_loss: 0.5682\n",
            "Epoch 8/25\n",
            "\u001b[1m97/97\u001b[0m \u001b[32m━━━━━━━━━━━━━━━━━━━━\u001b[0m\u001b[37m\u001b[0m \u001b[1m13s\u001b[0m 129ms/step - accuracy: 0.8102 - loss: 0.5091 - val_accuracy: 0.8268 - val_loss: 0.5110\n",
            "Epoch 9/25\n",
            "\u001b[1m97/97\u001b[0m \u001b[32m━━━━━━━━━━━━━━━━━━━━\u001b[0m\u001b[37m\u001b[0m \u001b[1m13s\u001b[0m 135ms/step - accuracy: 0.8214 - loss: 0.4804 - val_accuracy: 0.8093 - val_loss: 0.5064\n",
            "Epoch 10/25\n",
            "\u001b[1m97/97\u001b[0m \u001b[32m━━━━━━━━━━━━━━━━━━━━\u001b[0m\u001b[37m\u001b[0m \u001b[1m13s\u001b[0m 129ms/step - accuracy: 0.8621 - loss: 0.4024 - val_accuracy: 0.8327 - val_loss: 0.4666\n",
            "Epoch 11/25\n",
            "\u001b[1m97/97\u001b[0m \u001b[32m━━━━━━━━━━━━━━━━━━━━\u001b[0m\u001b[37m\u001b[0m \u001b[1m13s\u001b[0m 133ms/step - accuracy: 0.8629 - loss: 0.3974 - val_accuracy: 0.8346 - val_loss: 0.4478\n",
            "Epoch 12/25\n",
            "\u001b[1m97/97\u001b[0m \u001b[32m━━━━━━━━━━━━━━━━━━━━\u001b[0m\u001b[37m\u001b[0m \u001b[1m12s\u001b[0m 122ms/step - accuracy: 0.8927 - loss: 0.3196 - val_accuracy: 0.8181 - val_loss: 0.4743\n",
            "Epoch 13/25\n",
            "\u001b[1m97/97\u001b[0m \u001b[32m━━━━━━━━━━━━━━━━━━━━\u001b[0m\u001b[37m\u001b[0m \u001b[1m12s\u001b[0m 128ms/step - accuracy: 0.8896 - loss: 0.3108 - val_accuracy: 0.8346 - val_loss: 0.4346\n",
            "Epoch 14/25\n",
            "\u001b[1m97/97\u001b[0m \u001b[32m━━━━━━━━━━━━━━━━━━━━\u001b[0m\u001b[37m\u001b[0m \u001b[1m13s\u001b[0m 129ms/step - accuracy: 0.9019 - loss: 0.2788 - val_accuracy: 0.8521 - val_loss: 0.4075\n",
            "Epoch 15/25\n",
            "\u001b[1m97/97\u001b[0m \u001b[32m━━━━━━━━━━━━━━━━━━━━\u001b[0m\u001b[37m\u001b[0m \u001b[1m14s\u001b[0m 139ms/step - accuracy: 0.9109 - loss: 0.2600 - val_accuracy: 0.8648 - val_loss: 0.3889\n",
            "Epoch 16/25\n",
            "\u001b[1m97/97\u001b[0m \u001b[32m━━━━━━━━━━━━━━━━━━━━\u001b[0m\u001b[37m\u001b[0m \u001b[1m12s\u001b[0m 127ms/step - accuracy: 0.9088 - loss: 0.2649 - val_accuracy: 0.8706 - val_loss: 0.3731\n",
            "Epoch 17/25\n",
            "\u001b[1m97/97\u001b[0m \u001b[32m━━━━━━━━━━━━━━━━━━━━\u001b[0m\u001b[37m\u001b[0m \u001b[1m11s\u001b[0m 115ms/step - accuracy: 0.9254 - loss: 0.2284 - val_accuracy: 0.8570 - val_loss: 0.3875\n",
            "Epoch 18/25\n",
            "\u001b[1m97/97\u001b[0m \u001b[32m━━━━━━━━━━━━━━━━━━━━\u001b[0m\u001b[37m\u001b[0m \u001b[1m12s\u001b[0m 126ms/step - accuracy: 0.9238 - loss: 0.2073 - val_accuracy: 0.8696 - val_loss: 0.3621\n",
            "Epoch 19/25\n",
            "\u001b[1m97/97\u001b[0m \u001b[32m━━━━━━━━━━━━━━━━━━━━\u001b[0m\u001b[37m\u001b[0m \u001b[1m12s\u001b[0m 124ms/step - accuracy: 0.9378 - loss: 0.1871 - val_accuracy: 0.8726 - val_loss: 0.3685\n",
            "Epoch 20/25\n",
            "\u001b[1m97/97\u001b[0m \u001b[32m━━━━━━━━━━━━━━━━━━━━\u001b[0m\u001b[37m\u001b[0m \u001b[1m13s\u001b[0m 129ms/step - accuracy: 0.9268 - loss: 0.1980 - val_accuracy: 0.8648 - val_loss: 0.3566\n",
            "Epoch 21/25\n",
            "\u001b[1m97/97\u001b[0m \u001b[32m━━━━━━━━━━━━━━━━━━━━\u001b[0m\u001b[37m\u001b[0m \u001b[1m12s\u001b[0m 120ms/step - accuracy: 0.9410 - loss: 0.1816 - val_accuracy: 0.8560 - val_loss: 0.4230\n",
            "Epoch 22/25\n",
            "\u001b[1m97/97\u001b[0m \u001b[32m━━━━━━━━━━━━━━━━━━━━\u001b[0m\u001b[37m\u001b[0m \u001b[1m11s\u001b[0m 115ms/step - accuracy: 0.9326 - loss: 0.1948 - val_accuracy: 0.8551 - val_loss: 0.4165\n",
            "Epoch 23/25\n",
            "\u001b[1m97/97\u001b[0m \u001b[32m━━━━━━━━━━━━━━━━━━━━\u001b[0m\u001b[37m\u001b[0m \u001b[1m13s\u001b[0m 132ms/step - accuracy: 0.9208 - loss: 0.2236 - val_accuracy: 0.8862 - val_loss: 0.3359\n",
            "Epoch 24/25\n",
            "\u001b[1m97/97\u001b[0m \u001b[32m━━━━━━━━━━━━━━━━━━━━\u001b[0m\u001b[37m\u001b[0m \u001b[1m12s\u001b[0m 124ms/step - accuracy: 0.9321 - loss: 0.1841 - val_accuracy: 0.8804 - val_loss: 0.3463\n",
            "Epoch 25/25\n",
            "\u001b[1m97/97\u001b[0m \u001b[32m━━━━━━━━━━━━━━━━━━━━\u001b[0m\u001b[37m\u001b[0m \u001b[1m12s\u001b[0m 127ms/step - accuracy: 0.9468 - loss: 0.1693 - val_accuracy: 0.8570 - val_loss: 0.4682\n",
            "\n",
            "🚀 Training MobileNetV2...\n",
            "Found 3087 images belonging to 7 classes.\n",
            "Found 1028 images belonging to 7 classes.\n",
            "Epoch 1/25\n",
            "\u001b[1m97/97\u001b[0m \u001b[32m━━━━━━━━━━━━━━━━━━━━\u001b[0m\u001b[37m\u001b[0m \u001b[1m34s\u001b[0m 223ms/step - accuracy: 0.4191 - loss: 1.7605 - val_accuracy: 0.7403 - val_loss: 0.7223\n",
            "Epoch 2/25\n",
            "\u001b[1m97/97\u001b[0m \u001b[32m━━━━━━━━━━━━━━━━━━━━\u001b[0m\u001b[37m\u001b[0m \u001b[1m12s\u001b[0m 122ms/step - accuracy: 0.7447 - loss: 0.7152 - val_accuracy: 0.8375 - val_loss: 0.5197\n",
            "Epoch 3/25\n",
            "\u001b[1m97/97\u001b[0m \u001b[32m━━━━━━━━━━━━━━━━━━━━\u001b[0m\u001b[37m\u001b[0m \u001b[1m12s\u001b[0m 124ms/step - accuracy: 0.8334 - loss: 0.4737 - val_accuracy: 0.8969 - val_loss: 0.3594\n",
            "Epoch 4/25\n",
            "\u001b[1m97/97\u001b[0m \u001b[32m━━━━━━━━━━━━━━━━━━━━\u001b[0m\u001b[37m\u001b[0m \u001b[1m12s\u001b[0m 121ms/step - accuracy: 0.8804 - loss: 0.3654 - val_accuracy: 0.9115 - val_loss: 0.2725\n",
            "Epoch 5/25\n",
            "\u001b[1m97/97\u001b[0m \u001b[32m━━━━━━━━━━━━━━━━━━━━\u001b[0m\u001b[37m\u001b[0m \u001b[1m12s\u001b[0m 124ms/step - accuracy: 0.9361 - loss: 0.2221 - val_accuracy: 0.9222 - val_loss: 0.2424\n",
            "Epoch 6/25\n",
            "\u001b[1m97/97\u001b[0m \u001b[32m━━━━━━━━━━━━━━━━━━━━\u001b[0m\u001b[37m\u001b[0m \u001b[1m11s\u001b[0m 118ms/step - accuracy: 0.9456 - loss: 0.1732 - val_accuracy: 0.9514 - val_loss: 0.1834\n",
            "Epoch 7/25\n",
            "\u001b[1m97/97\u001b[0m \u001b[32m━━━━━━━━━━━━━━━━━━━━\u001b[0m\u001b[37m\u001b[0m \u001b[1m12s\u001b[0m 119ms/step - accuracy: 0.9603 - loss: 0.1370 - val_accuracy: 0.9446 - val_loss: 0.1875\n",
            "Epoch 8/25\n",
            "\u001b[1m97/97\u001b[0m \u001b[32m━━━━━━━━━━━━━━━━━━━━\u001b[0m\u001b[37m\u001b[0m \u001b[1m12s\u001b[0m 122ms/step - accuracy: 0.9794 - loss: 0.0888 - val_accuracy: 0.9553 - val_loss: 0.1506\n",
            "Epoch 9/25\n",
            "\u001b[1m97/97\u001b[0m \u001b[32m━━━━━━━━━━━━━━━━━━━━\u001b[0m\u001b[37m\u001b[0m \u001b[1m12s\u001b[0m 124ms/step - accuracy: 0.9676 - loss: 0.0993 - val_accuracy: 0.9523 - val_loss: 0.1441\n",
            "Epoch 10/25\n",
            "\u001b[1m97/97\u001b[0m \u001b[32m━━━━━━━━━━━━━━━━━━━━\u001b[0m\u001b[37m\u001b[0m \u001b[1m12s\u001b[0m 122ms/step - accuracy: 0.9826 - loss: 0.0636 - val_accuracy: 0.9582 - val_loss: 0.1297\n",
            "Epoch 11/25\n",
            "\u001b[1m97/97\u001b[0m \u001b[32m━━━━━━━━━━━━━━━━━━━━\u001b[0m\u001b[37m\u001b[0m \u001b[1m12s\u001b[0m 121ms/step - accuracy: 0.9827 - loss: 0.0651 - val_accuracy: 0.9533 - val_loss: 0.1434\n",
            "Epoch 12/25\n",
            "\u001b[1m97/97\u001b[0m \u001b[32m━━━━━━━━━━━━━━━━━━━━\u001b[0m\u001b[37m\u001b[0m \u001b[1m11s\u001b[0m 116ms/step - accuracy: 0.9808 - loss: 0.0594 - val_accuracy: 0.9504 - val_loss: 0.1353\n",
            "Epoch 13/25\n",
            "\u001b[1m97/97\u001b[0m \u001b[32m━━━━━━━━━━━━━━━━━━━━\u001b[0m\u001b[37m\u001b[0m \u001b[1m12s\u001b[0m 128ms/step - accuracy: 0.9881 - loss: 0.0544 - val_accuracy: 0.9640 - val_loss: 0.1216\n",
            "Epoch 14/25\n",
            "\u001b[1m97/97\u001b[0m \u001b[32m━━━━━━━━━━━━━━━━━━━━\u001b[0m\u001b[37m\u001b[0m \u001b[1m13s\u001b[0m 132ms/step - accuracy: 0.9891 - loss: 0.0418 - val_accuracy: 0.9630 - val_loss: 0.1041\n",
            "Epoch 15/25\n",
            "\u001b[1m97/97\u001b[0m \u001b[32m━━━━━━━━━━━━━━━━━━━━\u001b[0m\u001b[37m\u001b[0m \u001b[1m13s\u001b[0m 129ms/step - accuracy: 0.9924 - loss: 0.0331 - val_accuracy: 0.9591 - val_loss: 0.1156\n",
            "Epoch 16/25\n",
            "\u001b[1m97/97\u001b[0m \u001b[32m━━━━━━━━━━━━━━━━━━━━\u001b[0m\u001b[37m\u001b[0m \u001b[1m12s\u001b[0m 124ms/step - accuracy: 0.9873 - loss: 0.0455 - val_accuracy: 0.9660 - val_loss: 0.1237\n",
            "Epoch 17/25\n",
            "\u001b[1m97/97\u001b[0m \u001b[32m━━━━━━━━━━━━━━━━━━━━\u001b[0m\u001b[37m\u001b[0m \u001b[1m13s\u001b[0m 133ms/step - accuracy: 0.9881 - loss: 0.0370 - val_accuracy: 0.9669 - val_loss: 0.0991\n",
            "Epoch 18/25\n",
            "\u001b[1m97/97\u001b[0m \u001b[32m━━━━━━━━━━━━━━━━━━━━\u001b[0m\u001b[37m\u001b[0m \u001b[1m12s\u001b[0m 122ms/step - accuracy: 0.9930 - loss: 0.0281 - val_accuracy: 0.9562 - val_loss: 0.1304\n",
            "Epoch 19/25\n",
            "\u001b[1m97/97\u001b[0m \u001b[32m━━━━━━━━━━━━━━━━━━━━\u001b[0m\u001b[37m\u001b[0m \u001b[1m12s\u001b[0m 121ms/step - accuracy: 0.9812 - loss: 0.0547 - val_accuracy: 0.9650 - val_loss: 0.1172\n",
            "Epoch 20/25\n",
            "\u001b[1m97/97\u001b[0m \u001b[32m━━━━━━━━━━━━━━━━━━━━\u001b[0m\u001b[37m\u001b[0m \u001b[1m11s\u001b[0m 116ms/step - accuracy: 0.9853 - loss: 0.0470 - val_accuracy: 0.9650 - val_loss: 0.1041\n",
            "Epoch 21/25\n",
            "\u001b[1m97/97\u001b[0m \u001b[32m━━━━━━━━━━━━━━━━━━━━\u001b[0m\u001b[37m\u001b[0m \u001b[1m12s\u001b[0m 121ms/step - accuracy: 0.9874 - loss: 0.0410 - val_accuracy: 0.9650 - val_loss: 0.1025\n",
            "Epoch 22/25\n",
            "\u001b[1m97/97\u001b[0m \u001b[32m━━━━━━━━━━━━━━━━━━━━\u001b[0m\u001b[37m\u001b[0m \u001b[1m12s\u001b[0m 121ms/step - accuracy: 0.9902 - loss: 0.0374 - val_accuracy: 0.9601 - val_loss: 0.1127\n",
            "\n",
            "🚀 Training EfficientNetB0...\n",
            "Found 3087 images belonging to 7 classes.\n",
            "Found 1028 images belonging to 7 classes.\n",
            "Epoch 1/25\n",
            "\u001b[1m97/97\u001b[0m \u001b[32m━━━━━━━━━━━━━━━━━━━━\u001b[0m\u001b[37m\u001b[0m \u001b[1m56s\u001b[0m 312ms/step - accuracy: 0.5102 - loss: 1.3411 - val_accuracy: 0.8113 - val_loss: 0.5575\n",
            "Epoch 2/25\n",
            "\u001b[1m97/97\u001b[0m \u001b[32m━━━━━━━━━━━━━━━━━━━━\u001b[0m\u001b[37m\u001b[0m \u001b[1m11s\u001b[0m 110ms/step - accuracy: 0.8268 - loss: 0.5260 - val_accuracy: 0.8988 - val_loss: 0.3332\n",
            "Epoch 3/25\n",
            "\u001b[1m97/97\u001b[0m \u001b[32m━━━━━━━━━━━━━━━━━━━━\u001b[0m\u001b[37m\u001b[0m \u001b[1m11s\u001b[0m 118ms/step - accuracy: 0.8812 - loss: 0.3553 - val_accuracy: 0.9407 - val_loss: 0.2314\n",
            "Epoch 4/25\n",
            "\u001b[1m97/97\u001b[0m \u001b[32m━━━━━━━━━━━━━━━━━━━━\u001b[0m\u001b[37m\u001b[0m \u001b[1m10s\u001b[0m 107ms/step - accuracy: 0.9386 - loss: 0.2125 - val_accuracy: 0.9611 - val_loss: 0.1431\n",
            "Epoch 5/25\n",
            "\u001b[1m97/97\u001b[0m \u001b[32m━━━━━━━━━━━━━━━━━━━━\u001b[0m\u001b[37m\u001b[0m \u001b[1m11s\u001b[0m 115ms/step - accuracy: 0.9581 - loss: 0.1514 - val_accuracy: 0.9553 - val_loss: 0.1412\n",
            "Epoch 6/25\n",
            "\u001b[1m97/97\u001b[0m \u001b[32m━━━━━━━━━━━━━━━━━━━━\u001b[0m\u001b[37m\u001b[0m \u001b[1m11s\u001b[0m 113ms/step - accuracy: 0.9708 - loss: 0.1140 - val_accuracy: 0.9737 - val_loss: 0.1010\n",
            "Epoch 7/25\n",
            "\u001b[1m97/97\u001b[0m \u001b[32m━━━━━━━━━━━━━━━━━━━━\u001b[0m\u001b[37m\u001b[0m \u001b[1m11s\u001b[0m 111ms/step - accuracy: 0.9764 - loss: 0.0999 - val_accuracy: 0.9757 - val_loss: 0.0864\n",
            "Epoch 8/25\n",
            "\u001b[1m97/97\u001b[0m \u001b[32m━━━━━━━━━━━━━━━━━━━━\u001b[0m\u001b[37m\u001b[0m \u001b[1m11s\u001b[0m 118ms/step - accuracy: 0.9707 - loss: 0.0921 - val_accuracy: 0.9776 - val_loss: 0.0866\n",
            "Epoch 9/25\n",
            "\u001b[1m97/97\u001b[0m \u001b[32m━━━━━━━━━━━━━━━━━━━━\u001b[0m\u001b[37m\u001b[0m \u001b[1m12s\u001b[0m 120ms/step - accuracy: 0.9800 - loss: 0.0685 - val_accuracy: 0.9757 - val_loss: 0.0753\n",
            "Epoch 10/25\n",
            "\u001b[1m97/97\u001b[0m \u001b[32m━━━━━━━━━━━━━━━━━━━━\u001b[0m\u001b[37m\u001b[0m \u001b[1m11s\u001b[0m 113ms/step - accuracy: 0.9841 - loss: 0.0518 - val_accuracy: 0.9844 - val_loss: 0.0673\n",
            "Epoch 11/25\n",
            "\u001b[1m97/97\u001b[0m \u001b[32m━━━━━━━━━━━━━━━━━━━━\u001b[0m\u001b[37m\u001b[0m \u001b[1m11s\u001b[0m 115ms/step - accuracy: 0.9877 - loss: 0.0472 - val_accuracy: 0.9864 - val_loss: 0.0554\n",
            "Epoch 12/25\n",
            "\u001b[1m97/97\u001b[0m \u001b[32m━━━━━━━━━━━━━━━━━━━━\u001b[0m\u001b[37m\u001b[0m \u001b[1m11s\u001b[0m 110ms/step - accuracy: 0.9882 - loss: 0.0485 - val_accuracy: 0.9844 - val_loss: 0.0562\n",
            "Epoch 13/25\n",
            "\u001b[1m97/97\u001b[0m \u001b[32m━━━━━━━━━━━━━━━━━━━━\u001b[0m\u001b[37m\u001b[0m \u001b[1m11s\u001b[0m 111ms/step - accuracy: 0.9887 - loss: 0.0433 - val_accuracy: 0.9708 - val_loss: 0.0717\n",
            "Epoch 14/25\n",
            "\u001b[1m97/97\u001b[0m \u001b[32m━━━━━━━━━━━━━━━━━━━━\u001b[0m\u001b[37m\u001b[0m \u001b[1m11s\u001b[0m 112ms/step - accuracy: 0.9915 - loss: 0.0380 - val_accuracy: 0.9874 - val_loss: 0.0492\n",
            "Epoch 15/25\n",
            "\u001b[1m97/97\u001b[0m \u001b[32m━━━━━━━━━━━━━━━━━━━━\u001b[0m\u001b[37m\u001b[0m \u001b[1m10s\u001b[0m 106ms/step - accuracy: 0.9910 - loss: 0.0363 - val_accuracy: 0.9864 - val_loss: 0.0490\n",
            "Epoch 16/25\n",
            "\u001b[1m97/97\u001b[0m \u001b[32m━━━━━━━━━━━━━━━━━━━━\u001b[0m\u001b[37m\u001b[0m \u001b[1m10s\u001b[0m 106ms/step - accuracy: 0.9826 - loss: 0.0438 - val_accuracy: 0.9864 - val_loss: 0.0590\n",
            "Epoch 17/25\n",
            "\u001b[1m97/97\u001b[0m \u001b[32m━━━━━━━━━━━━━━━━━━━━\u001b[0m\u001b[37m\u001b[0m \u001b[1m11s\u001b[0m 111ms/step - accuracy: 0.9848 - loss: 0.0415 - val_accuracy: 0.9883 - val_loss: 0.0523\n",
            "Epoch 18/25\n",
            "\u001b[1m97/97\u001b[0m \u001b[32m━━━━━━━━━━━━━━━━━━━━\u001b[0m\u001b[37m\u001b[0m \u001b[1m11s\u001b[0m 112ms/step - accuracy: 0.9927 - loss: 0.0278 - val_accuracy: 0.9883 - val_loss: 0.0448\n",
            "Epoch 19/25\n",
            "\u001b[1m97/97\u001b[0m \u001b[32m━━━━━━━━━━━━━━━━━━━━\u001b[0m\u001b[37m\u001b[0m \u001b[1m11s\u001b[0m 117ms/step - accuracy: 0.9917 - loss: 0.0299 - val_accuracy: 0.9932 - val_loss: 0.0375\n",
            "Epoch 20/25\n",
            "\u001b[1m97/97\u001b[0m \u001b[32m━━━━━━━━━━━━━━━━━━━━\u001b[0m\u001b[37m\u001b[0m \u001b[1m10s\u001b[0m 105ms/step - accuracy: 0.9943 - loss: 0.0219 - val_accuracy: 0.9922 - val_loss: 0.0383\n",
            "Epoch 21/25\n",
            "\u001b[1m97/97\u001b[0m \u001b[32m━━━━━━━━━━━━━━━━━━━━\u001b[0m\u001b[37m\u001b[0m \u001b[1m11s\u001b[0m 109ms/step - accuracy: 0.9925 - loss: 0.0265 - val_accuracy: 0.9844 - val_loss: 0.0525\n",
            "Epoch 22/25\n",
            "\u001b[1m97/97\u001b[0m \u001b[32m━━━━━━━━━━━━━━━━━━━━\u001b[0m\u001b[37m\u001b[0m \u001b[1m10s\u001b[0m 106ms/step - accuracy: 0.9864 - loss: 0.0450 - val_accuracy: 0.9854 - val_loss: 0.0557\n",
            "Epoch 23/25\n",
            "\u001b[1m97/97\u001b[0m \u001b[32m━━━━━━━━━━━━━━━━━━━━\u001b[0m\u001b[37m\u001b[0m \u001b[1m11s\u001b[0m 115ms/step - accuracy: 0.9869 - loss: 0.0367 - val_accuracy: 0.9844 - val_loss: 0.0514\n",
            "Epoch 24/25\n",
            "\u001b[1m97/97\u001b[0m \u001b[32m━━━━━━━━━━━━━━━━━━━━\u001b[0m\u001b[37m\u001b[0m \u001b[1m10s\u001b[0m 106ms/step - accuracy: 0.9905 - loss: 0.0337 - val_accuracy: 0.9805 - val_loss: 0.0643\n"
          ]
        }
      ],
      "source": [
        "results = {}\n",
        "\n",
        "for name, base_model in base_models.items():\n",
        "    print(f\"\\n🚀 Training {name}...\")\n",
        "\n",
        "\n",
        "    train_datagen = ImageDataGenerator(preprocessing_function=preprocessing_map[name])\n",
        "    val_datagen = ImageDataGenerator(preprocessing_function=preprocessing_map[name])\n",
        "\n",
        "    train_generator = train_datagen.flow_from_directory(\n",
        "        train_dir,\n",
        "        target_size=IMG_SIZE,\n",
        "        batch_size=BATCH_SIZE,\n",
        "        class_mode='categorical'\n",
        "    )\n",
        "\n",
        "    val_generator = val_datagen.flow_from_directory(\n",
        "        val_dir,\n",
        "        target_size=IMG_SIZE,\n",
        "        batch_size=BATCH_SIZE,\n",
        "        class_mode='categorical'\n",
        "    )\n",
        "\n",
        "\n",
        "    base_model.trainable = False\n",
        "\n",
        "    # Add custom head\n",
        "    x = base_model.output\n",
        "    x = GlobalAveragePooling2D()(x)\n",
        "    x = Dense(512, activation='relu')(x)\n",
        "    x = Dropout(0.5)(x)\n",
        "    output = Dense(train_generator.num_classes, activation='softmax')(x)\n",
        "\n",
        "    model = Model(inputs=base_model.input, outputs=output)\n",
        "\n",
        "    model.compile(optimizer='adam',\n",
        "                  loss='categorical_crossentropy',\n",
        "                  metrics=['accuracy'])\n",
        "\n",
        "    callbacks = [\n",
        "        EarlyStopping(patience=5, restore_best_weights=True),\n",
        "        ModelCheckpoint(f\"{name}_best.h5\", save_best_only=True)\n",
        "    ]\n",
        "\n",
        "    history = model.fit(\n",
        "        train_generator,\n",
        "        validation_data=val_generator,\n",
        "        epochs=25,\n",
        "        callbacks=callbacks\n",
        "    )\n",
        "\n",
        "    val_acc = max(history.history['val_accuracy'])\n",
        "    results[name] = val_acc\n"
      ]
    },
    {
      "cell_type": "code",
      "execution_count": null,
      "metadata": {
        "id": "j1_TwPSAMb5u",
        "outputId": "3329d503-8ed4-4af3-9103-b187bd1fc3e6"
      },
      "outputs": [
        {
          "name": "stdout",
          "output_type": "stream",
          "text": [
            "\n",
            "✅ Results for all models:\n",
            "{'ResNet50': 0.9834630489349365, 'VGG16': 0.9863813519477844, 'InceptionV3': 0.8861867785453796, 'MobileNetV2': 0.966926097869873, 'EfficientNetB0': 0.9931906461715698}\n",
            "\n",
            "🏆 Best Model: EfficientNetB0 with Val Acc: 0.9932\n"
          ]
        }
      ],
      "source": [
        "print(\"\\n✅ Results for all models:\")\n",
        "print(results)\n",
        "\n",
        "\n",
        "best_model_name = max(results, key=results.get)\n",
        "print(f\"\\n🏆 Best Model: {best_model_name} with Val Acc: {results[best_model_name]:.4f}\")"
      ]
    },
    {
      "cell_type": "code",
      "execution_count": null,
      "metadata": {
        "id": "D-CxTf7zMb5v"
      },
      "outputs": [],
      "source": [
        "model.save('saved_model.h5')\n"
      ]
    },
    {
      "cell_type": "code",
      "execution_count": null,
      "metadata": {
        "id": "zL4ZdGYtMb5w"
      },
      "outputs": [],
      "source": [
        "test_dir = '/kaggle/input/teeth-dataset-0/Teeth_Dataset/Testing'"
      ]
    },
    {
      "cell_type": "code",
      "execution_count": null,
      "metadata": {
        "id": "dbiu8mf4Mb5x",
        "outputId": "ea83a12a-bd54-4dba-e0c3-8b39a5ee04af"
      },
      "outputs": [
        {
          "name": "stdout",
          "output_type": "stream",
          "text": [
            "Found 1028 images belonging to 7 classes.\n"
          ]
        }
      ],
      "source": [
        "test_generator = test_datagen.flow_from_directory(\n",
        "    test_dir,\n",
        "    target_size=IMG_SIZE,\n",
        "    batch_size=BATCH_SIZE,\n",
        "    class_mode='categorical',\n",
        "    classes=['CaS', 'CoS', 'Gum', 'MC', 'OC', 'OLP', 'OT']  # ✅ هنا بتحدد بس الكلاسات المطلوبة\n",
        ")\n"
      ]
    },
    {
      "cell_type": "code",
      "execution_count": null,
      "metadata": {
        "id": "TpPJzBaLMb5y"
      },
      "outputs": [],
      "source": [
        "from tensorflow.keras.models import load_model\n",
        "\n",
        "best_model = load_model('saved_model.h5', compile=False)"
      ]
    },
    {
      "cell_type": "code",
      "execution_count": null,
      "metadata": {
        "id": "COnsEDgdMb5z",
        "outputId": "3d4876fb-b9b2-414a-da30-db7038e015fa"
      },
      "outputs": [
        {
          "name": "stdout",
          "output_type": "stream",
          "text": [
            "\u001b[1m33/33\u001b[0m \u001b[32m━━━━━━━━━━━━━━━━━━━━\u001b[0m\u001b[37m\u001b[0m \u001b[1m17s\u001b[0m 256ms/step - accuracy: 0.9860 - loss: 0.0364\n",
            "✅ Test Accuracy: 0.9874\n"
          ]
        }
      ],
      "source": [
        "best_model.compile(\n",
        "    optimizer='adam',\n",
        "    loss='categorical_crossentropy',\n",
        "    metrics=['accuracy']\n",
        ")\n",
        "\n",
        "# 🔹 Evaluate\n",
        "test_loss, test_acc = best_model.evaluate(test_generator)\n",
        "print(f\"✅ Test Accuracy: {test_acc:.4f}\")"
      ]
    },
    {
      "cell_type": "code",
      "execution_count": null,
      "metadata": {
        "colab": {
          "base_uri": "https://localhost:8080/"
        },
        "id": "cB6ZMhQMMeHD",
        "outputId": "6a7aab8e-51ce-491b-b134-bf6fd7a6a287"
      },
      "outputs": [
        {
          "name": "stdout",
          "output_type": "stream",
          "text": [
            "Requirement already satisfied: streamlit in /usr/local/lib/python3.11/dist-packages (1.46.1)\n",
            "Requirement already satisfied: pyngrok in /usr/local/lib/python3.11/dist-packages (7.2.12)\n",
            "Requirement already satisfied: altair<6,>=4.0 in /usr/local/lib/python3.11/dist-packages (from streamlit) (5.5.0)\n",
            "Requirement already satisfied: blinker<2,>=1.5.0 in /usr/local/lib/python3.11/dist-packages (from streamlit) (1.9.0)\n",
            "Requirement already satisfied: cachetools<7,>=4.0 in /usr/local/lib/python3.11/dist-packages (from streamlit) (5.5.2)\n",
            "Requirement already satisfied: click<9,>=7.0 in /usr/local/lib/python3.11/dist-packages (from streamlit) (8.2.1)\n",
            "Requirement already satisfied: numpy<3,>=1.23 in /usr/local/lib/python3.11/dist-packages (from streamlit) (2.0.2)\n",
            "Requirement already satisfied: packaging<26,>=20 in /usr/local/lib/python3.11/dist-packages (from streamlit) (24.2)\n",
            "Requirement already satisfied: pandas<3,>=1.4.0 in /usr/local/lib/python3.11/dist-packages (from streamlit) (2.2.2)\n",
            "Requirement already satisfied: pillow<12,>=7.1.0 in /usr/local/lib/python3.11/dist-packages (from streamlit) (11.2.1)\n",
            "Requirement already satisfied: protobuf<7,>=3.20 in /usr/local/lib/python3.11/dist-packages (from streamlit) (5.29.5)\n",
            "Requirement already satisfied: pyarrow>=7.0 in /usr/local/lib/python3.11/dist-packages (from streamlit) (18.1.0)\n",
            "Requirement already satisfied: requests<3,>=2.27 in /usr/local/lib/python3.11/dist-packages (from streamlit) (2.32.3)\n",
            "Requirement already satisfied: tenacity<10,>=8.1.0 in /usr/local/lib/python3.11/dist-packages (from streamlit) (8.5.0)\n",
            "Requirement already satisfied: toml<2,>=0.10.1 in /usr/local/lib/python3.11/dist-packages (from streamlit) (0.10.2)\n",
            "Requirement already satisfied: typing-extensions<5,>=4.4.0 in /usr/local/lib/python3.11/dist-packages (from streamlit) (4.14.1)\n",
            "Requirement already satisfied: watchdog<7,>=2.1.5 in /usr/local/lib/python3.11/dist-packages (from streamlit) (6.0.0)\n",
            "Requirement already satisfied: gitpython!=3.1.19,<4,>=3.0.7 in /usr/local/lib/python3.11/dist-packages (from streamlit) (3.1.44)\n",
            "Requirement already satisfied: pydeck<1,>=0.8.0b4 in /usr/local/lib/python3.11/dist-packages (from streamlit) (0.9.1)\n",
            "Requirement already satisfied: tornado!=6.5.0,<7,>=6.0.3 in /usr/local/lib/python3.11/dist-packages (from streamlit) (6.4.2)\n",
            "Requirement already satisfied: PyYAML>=5.1 in /usr/local/lib/python3.11/dist-packages (from pyngrok) (6.0.2)\n",
            "Requirement already satisfied: jinja2 in /usr/local/lib/python3.11/dist-packages (from altair<6,>=4.0->streamlit) (3.1.6)\n",
            "Requirement already satisfied: jsonschema>=3.0 in /usr/local/lib/python3.11/dist-packages (from altair<6,>=4.0->streamlit) (4.24.0)\n",
            "Requirement already satisfied: narwhals>=1.14.2 in /usr/local/lib/python3.11/dist-packages (from altair<6,>=4.0->streamlit) (1.45.0)\n",
            "Requirement already satisfied: gitdb<5,>=4.0.1 in /usr/local/lib/python3.11/dist-packages (from gitpython!=3.1.19,<4,>=3.0.7->streamlit) (4.0.12)\n",
            "Requirement already satisfied: python-dateutil>=2.8.2 in /usr/local/lib/python3.11/dist-packages (from pandas<3,>=1.4.0->streamlit) (2.9.0.post0)\n",
            "Requirement already satisfied: pytz>=2020.1 in /usr/local/lib/python3.11/dist-packages (from pandas<3,>=1.4.0->streamlit) (2025.2)\n",
            "Requirement already satisfied: tzdata>=2022.7 in /usr/local/lib/python3.11/dist-packages (from pandas<3,>=1.4.0->streamlit) (2025.2)\n",
            "Requirement already satisfied: charset-normalizer<4,>=2 in /usr/local/lib/python3.11/dist-packages (from requests<3,>=2.27->streamlit) (3.4.2)\n",
            "Requirement already satisfied: idna<4,>=2.5 in /usr/local/lib/python3.11/dist-packages (from requests<3,>=2.27->streamlit) (3.10)\n",
            "Requirement already satisfied: urllib3<3,>=1.21.1 in /usr/local/lib/python3.11/dist-packages (from requests<3,>=2.27->streamlit) (2.4.0)\n",
            "Requirement already satisfied: certifi>=2017.4.17 in /usr/local/lib/python3.11/dist-packages (from requests<3,>=2.27->streamlit) (2025.6.15)\n",
            "Requirement already satisfied: smmap<6,>=3.0.1 in /usr/local/lib/python3.11/dist-packages (from gitdb<5,>=4.0.1->gitpython!=3.1.19,<4,>=3.0.7->streamlit) (5.0.2)\n",
            "Requirement already satisfied: MarkupSafe>=2.0 in /usr/local/lib/python3.11/dist-packages (from jinja2->altair<6,>=4.0->streamlit) (3.0.2)\n",
            "Requirement already satisfied: attrs>=22.2.0 in /usr/local/lib/python3.11/dist-packages (from jsonschema>=3.0->altair<6,>=4.0->streamlit) (25.3.0)\n",
            "Requirement already satisfied: jsonschema-specifications>=2023.03.6 in /usr/local/lib/python3.11/dist-packages (from jsonschema>=3.0->altair<6,>=4.0->streamlit) (2025.4.1)\n",
            "Requirement already satisfied: referencing>=0.28.4 in /usr/local/lib/python3.11/dist-packages (from jsonschema>=3.0->altair<6,>=4.0->streamlit) (0.36.2)\n",
            "Requirement already satisfied: rpds-py>=0.7.1 in /usr/local/lib/python3.11/dist-packages (from jsonschema>=3.0->altair<6,>=4.0->streamlit) (0.26.0)\n",
            "Requirement already satisfied: six>=1.5 in /usr/local/lib/python3.11/dist-packages (from python-dateutil>=2.8.2->pandas<3,>=1.4.0->streamlit) (1.17.0)\n"
          ]
        }
      ],
      "source": [
        "!pip install streamlit pyngrok"
      ]
    },
    {
      "cell_type": "code",
      "execution_count": null,
      "metadata": {
        "id": "OSRQQogVM9I9"
      },
      "outputs": [],
      "source": [
        "with open('app.py', 'w') as f:\n",
        "    f.write(\"\"\"\n",
        "import streamlit as st\n",
        "from tensorflow.keras.models import load_model\n",
        "from PIL import Image\n",
        "import numpy as np\n",
        "\n",
        "# عنوان التطبيق\n",
        "st.title(\"Teeth Classification App\")\n",
        "\n",
        "# ارفع الصورة\n",
        "uploaded_file = st.file_uploader(\"Upload a teeth image\", type=[\"jpg\", \"png\"])\n",
        "\n",
        "if uploaded_file is not None:\n",
        "    # اعرض الصورة\n",
        "    image = Image.open(uploaded_file)\n",
        "    st.image(image, caption='Uploaded Image.', use_column_width=True)\n",
        "\n",
        "    # جهّز الصورة\n",
        "    img = image.resize((224, 224))  # غيّر المقاس حسب موديلك\n",
        "    img_array = np.expand_dims(np.array(img) / 255.0, axis=0)\n",
        "\n",
        "    # حمّل الموديل\n",
        "    model = load_model('saved_model.h5')\n",
        "\n",
        "    # التوقع\n",
        "    prediction = model.predict(img_array)\n",
        "\n",
        "    st.write(f\"Prediction: {prediction}\")\n",
        "\"\"\")\n"
      ]
    },
    {
      "cell_type": "code",
      "execution_count": null,
      "metadata": {
        "colab": {
          "background_save": true,
          "base_uri": "https://localhost:8080/",
          "height": 56
        },
        "id": "gxR1H0jRN3nP",
        "outputId": "c431cf7a-5977-44d4-ab2e-f78c0c8b32ec"
      },
      "outputs": [
        {
          "data": {
            "text/html": [
              "\n",
              "     <input type=\"file\" id=\"files-aea3c05e-52db-4fa1-808d-1b90e60affef\" name=\"files[]\" multiple disabled\n",
              "        style=\"border:none\" />\n",
              "     <output id=\"result-aea3c05e-52db-4fa1-808d-1b90e60affef\">\n",
              "      Upload widget is only available when the cell has been executed in the\n",
              "      current browser session. Please rerun this cell to enable.\n",
              "      </output>\n",
              "      <script>// Copyright 2017 Google LLC\n",
              "//\n",
              "// Licensed under the Apache License, Version 2.0 (the \"License\");\n",
              "// you may not use this file except in compliance with the License.\n",
              "// You may obtain a copy of the License at\n",
              "//\n",
              "//      http://www.apache.org/licenses/LICENSE-2.0\n",
              "//\n",
              "// Unless required by applicable law or agreed to in writing, software\n",
              "// distributed under the License is distributed on an \"AS IS\" BASIS,\n",
              "// WITHOUT WARRANTIES OR CONDITIONS OF ANY KIND, either express or implied.\n",
              "// See the License for the specific language governing permissions and\n",
              "// limitations under the License.\n",
              "\n",
              "/**\n",
              " * @fileoverview Helpers for google.colab Python module.\n",
              " */\n",
              "(function(scope) {\n",
              "function span(text, styleAttributes = {}) {\n",
              "  const element = document.createElement('span');\n",
              "  element.textContent = text;\n",
              "  for (const key of Object.keys(styleAttributes)) {\n",
              "    element.style[key] = styleAttributes[key];\n",
              "  }\n",
              "  return element;\n",
              "}\n",
              "\n",
              "// Max number of bytes which will be uploaded at a time.\n",
              "const MAX_PAYLOAD_SIZE = 100 * 1024;\n",
              "\n",
              "function _uploadFiles(inputId, outputId) {\n",
              "  const steps = uploadFilesStep(inputId, outputId);\n",
              "  const outputElement = document.getElementById(outputId);\n",
              "  // Cache steps on the outputElement to make it available for the next call\n",
              "  // to uploadFilesContinue from Python.\n",
              "  outputElement.steps = steps;\n",
              "\n",
              "  return _uploadFilesContinue(outputId);\n",
              "}\n",
              "\n",
              "// This is roughly an async generator (not supported in the browser yet),\n",
              "// where there are multiple asynchronous steps and the Python side is going\n",
              "// to poll for completion of each step.\n",
              "// This uses a Promise to block the python side on completion of each step,\n",
              "// then passes the result of the previous step as the input to the next step.\n",
              "function _uploadFilesContinue(outputId) {\n",
              "  const outputElement = document.getElementById(outputId);\n",
              "  const steps = outputElement.steps;\n",
              "\n",
              "  const next = steps.next(outputElement.lastPromiseValue);\n",
              "  return Promise.resolve(next.value.promise).then((value) => {\n",
              "    // Cache the last promise value to make it available to the next\n",
              "    // step of the generator.\n",
              "    outputElement.lastPromiseValue = value;\n",
              "    return next.value.response;\n",
              "  });\n",
              "}\n",
              "\n",
              "/**\n",
              " * Generator function which is called between each async step of the upload\n",
              " * process.\n",
              " * @param {string} inputId Element ID of the input file picker element.\n",
              " * @param {string} outputId Element ID of the output display.\n",
              " * @return {!Iterable<!Object>} Iterable of next steps.\n",
              " */\n",
              "function* uploadFilesStep(inputId, outputId) {\n",
              "  const inputElement = document.getElementById(inputId);\n",
              "  inputElement.disabled = false;\n",
              "\n",
              "  const outputElement = document.getElementById(outputId);\n",
              "  outputElement.innerHTML = '';\n",
              "\n",
              "  const pickedPromise = new Promise((resolve) => {\n",
              "    inputElement.addEventListener('change', (e) => {\n",
              "      resolve(e.target.files);\n",
              "    });\n",
              "  });\n",
              "\n",
              "  const cancel = document.createElement('button');\n",
              "  inputElement.parentElement.appendChild(cancel);\n",
              "  cancel.textContent = 'Cancel upload';\n",
              "  const cancelPromise = new Promise((resolve) => {\n",
              "    cancel.onclick = () => {\n",
              "      resolve(null);\n",
              "    };\n",
              "  });\n",
              "\n",
              "  // Wait for the user to pick the files.\n",
              "  const files = yield {\n",
              "    promise: Promise.race([pickedPromise, cancelPromise]),\n",
              "    response: {\n",
              "      action: 'starting',\n",
              "    }\n",
              "  };\n",
              "\n",
              "  cancel.remove();\n",
              "\n",
              "  // Disable the input element since further picks are not allowed.\n",
              "  inputElement.disabled = true;\n",
              "\n",
              "  if (!files) {\n",
              "    return {\n",
              "      response: {\n",
              "        action: 'complete',\n",
              "      }\n",
              "    };\n",
              "  }\n",
              "\n",
              "  for (const file of files) {\n",
              "    const li = document.createElement('li');\n",
              "    li.append(span(file.name, {fontWeight: 'bold'}));\n",
              "    li.append(span(\n",
              "        `(${file.type || 'n/a'}) - ${file.size} bytes, ` +\n",
              "        `last modified: ${\n",
              "            file.lastModifiedDate ? file.lastModifiedDate.toLocaleDateString() :\n",
              "                                    'n/a'} - `));\n",
              "    const percent = span('0% done');\n",
              "    li.appendChild(percent);\n",
              "\n",
              "    outputElement.appendChild(li);\n",
              "\n",
              "    const fileDataPromise = new Promise((resolve) => {\n",
              "      const reader = new FileReader();\n",
              "      reader.onload = (e) => {\n",
              "        resolve(e.target.result);\n",
              "      };\n",
              "      reader.readAsArrayBuffer(file);\n",
              "    });\n",
              "    // Wait for the data to be ready.\n",
              "    let fileData = yield {\n",
              "      promise: fileDataPromise,\n",
              "      response: {\n",
              "        action: 'continue',\n",
              "      }\n",
              "    };\n",
              "\n",
              "    // Use a chunked sending to avoid message size limits. See b/62115660.\n",
              "    let position = 0;\n",
              "    do {\n",
              "      const length = Math.min(fileData.byteLength - position, MAX_PAYLOAD_SIZE);\n",
              "      const chunk = new Uint8Array(fileData, position, length);\n",
              "      position += length;\n",
              "\n",
              "      const base64 = btoa(String.fromCharCode.apply(null, chunk));\n",
              "      yield {\n",
              "        response: {\n",
              "          action: 'append',\n",
              "          file: file.name,\n",
              "          data: base64,\n",
              "        },\n",
              "      };\n",
              "\n",
              "      let percentDone = fileData.byteLength === 0 ?\n",
              "          100 :\n",
              "          Math.round((position / fileData.byteLength) * 100);\n",
              "      percent.textContent = `${percentDone}% done`;\n",
              "\n",
              "    } while (position < fileData.byteLength);\n",
              "  }\n",
              "\n",
              "  // All done.\n",
              "  yield {\n",
              "    response: {\n",
              "      action: 'complete',\n",
              "    }\n",
              "  };\n",
              "}\n",
              "\n",
              "scope.google = scope.google || {};\n",
              "scope.google.colab = scope.google.colab || {};\n",
              "scope.google.colab._files = {\n",
              "  _uploadFiles,\n",
              "  _uploadFilesContinue,\n",
              "};\n",
              "})(self);\n",
              "</script> "
            ],
            "text/plain": [
              "<IPython.core.display.HTML object>"
            ]
          },
          "metadata": {},
          "output_type": "display_data"
        },
        {
          "name": "stdout",
          "output_type": "stream",
          "text": [
            "Saving saved_model.h5 to saved_model.h5\n",
            "Buffered data was truncated after reaching the output size limit."
          ]
        }
      ],
      "source": [
        "from google.colab import files\n",
        "files.upload()\n"
      ]
    },
    {
      "cell_type": "code",
      "execution_count": null,
      "metadata": {
        "id": "ZtaqjrJHOBEF"
      },
      "outputs": [],
      "source": [
        "from tensorflow.keras.models import load_model\n",
        "\n",
        "model = load_model('saved_model.keras')\n"
      ]
    }
  ],
  "metadata": {
    "colab": {
      "provenance": []
    },
    "kaggle": {
      "accelerator": "nvidiaTeslaT4",
      "dataSources": [
        {
          "datasetId": 7764124,
          "sourceId": 12317661,
          "sourceType": "datasetVersion"
        }
      ],
      "dockerImageVersionId": 31041,
      "isGpuEnabled": true,
      "isInternetEnabled": true,
      "language": "python",
      "sourceType": "notebook"
    },
    "kernelspec": {
      "display_name": "Python 3",
      "language": "python",
      "name": "python3"
    },
    "language_info": {
      "codemirror_mode": {
        "name": "ipython",
        "version": 3
      },
      "file_extension": ".py",
      "mimetype": "text/x-python",
      "name": "python",
      "nbconvert_exporter": "python",
      "pygments_lexer": "ipython3",
      "version": "3.10.11"
    }
  },
  "nbformat": 4,
  "nbformat_minor": 0
}
